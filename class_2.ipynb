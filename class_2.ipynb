{
 "cells": [
  {
   "cell_type": "code",
   "execution_count": 2,
   "id": "24995384",
   "metadata": {},
   "outputs": [
    {
     "name": "stdout",
     "output_type": "stream",
     "text": [
      "hello world\n"
     ]
    }
   ],
   "source": [
    "print(\"hello world\")"
   ]
  },
  {
   "cell_type": "code",
   "execution_count": 3,
   "id": "097984c7",
   "metadata": {},
   "outputs": [
    {
     "name": "stdout",
     "output_type": "stream",
     "text": [
      " hello world\n"
     ]
    }
   ],
   "source": [
    "print(\" hello world\")"
   ]
  },
  {
   "cell_type": "code",
   "execution_count": 8,
   "id": "0011f7ab",
   "metadata": {},
   "outputs": [
    {
     "name": "stdout",
     "output_type": "stream",
     "text": [
      "hello   world\n"
     ]
    }
   ],
   "source": [
    "print(\"hello   world\")"
   ]
  },
  {
   "cell_type": "code",
   "execution_count": 9,
   "id": "062a4e31",
   "metadata": {},
   "outputs": [],
   "source": [
    "name = \"niaz\""
   ]
  },
  {
   "cell_type": "code",
   "execution_count": 10,
   "id": "1840f86a",
   "metadata": {},
   "outputs": [
    {
     "data": {
      "text/plain": [
       "'niaz'"
      ]
     },
     "execution_count": 10,
     "metadata": {},
     "output_type": "execute_result"
    }
   ],
   "source": [
    "name"
   ]
  },
  {
   "cell_type": "code",
   "execution_count": 5,
   "id": "f905202c",
   "metadata": {},
   "outputs": [],
   "source": [
    "name=\"ali\""
   ]
  },
  {
   "cell_type": "code",
   "execution_count": 6,
   "id": "3c23b521",
   "metadata": {},
   "outputs": [
    {
     "data": {
      "text/plain": [
       "'ali'"
      ]
     },
     "execution_count": 6,
     "metadata": {},
     "output_type": "execute_result"
    }
   ],
   "source": [
    "name"
   ]
  },
  {
   "cell_type": "code",
   "execution_count": 7,
   "id": "33f5ee07",
   "metadata": {},
   "outputs": [],
   "source": [
    "sylani=\"ali\""
   ]
  },
  {
   "cell_type": "code",
   "execution_count": 11,
   "id": "e846d446",
   "metadata": {},
   "outputs": [
    {
     "data": {
      "text/plain": [
       "'ali'"
      ]
     },
     "execution_count": 11,
     "metadata": {},
     "output_type": "execute_result"
    }
   ],
   "source": [
    "sylani"
   ]
  },
  {
   "cell_type": "code",
   "execution_count": 14,
   "id": "3d6914d8",
   "metadata": {},
   "outputs": [],
   "source": [
    "first_name = \"niaz\"\n",
    "last_name = \"ali\""
   ]
  },
  {
   "cell_type": "code",
   "execution_count": 15,
   "id": "0ad6ae61",
   "metadata": {},
   "outputs": [],
   "source": [
    "firt_name1 = \"niaz\"\n",
    "last_name2 = \"ali\""
   ]
  }
 ],
 "metadata": {
  "kernelspec": {
   "display_name": "Python 3 (ipykernel)",
   "language": "python",
   "name": "python3"
  },
  "language_info": {
   "codemirror_mode": {
    "name": "ipython",
    "version": 3
   },
   "file_extension": ".py",
   "mimetype": "text/x-python",
   "name": "python",
   "nbconvert_exporter": "python",
   "pygments_lexer": "ipython3",
   "version": "3.11.5"
  }
 },
 "nbformat": 4,
 "nbformat_minor": 5
}
