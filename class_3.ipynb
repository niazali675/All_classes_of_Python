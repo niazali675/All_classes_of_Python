{
 "cells": [
  {
   "cell_type": "code",
   "execution_count": 3,
   "id": "60f6a269",
   "metadata": {},
   "outputs": [],
   "source": [
    "name = \"niaz\" "
   ]
  },
  {
   "cell_type": "code",
   "execution_count": 6,
   "id": "19b6abf6",
   "metadata": {},
   "outputs": [
    {
     "name": "stdout",
     "output_type": "stream",
     "text": [
      "niaz\n"
     ]
    }
   ],
   "source": [
    "print(name)"
   ]
  },
  {
   "cell_type": "code",
   "execution_count": 7,
   "id": "6f5f40bc",
   "metadata": {},
   "outputs": [],
   "source": [
    "name = \"ali\""
   ]
  },
  {
   "cell_type": "code",
   "execution_count": 24,
   "id": "d26de3a3",
   "metadata": {},
   "outputs": [
    {
     "name": "stdout",
     "output_type": "stream",
     "text": [
      "umair\n"
     ]
    }
   ],
   "source": [
    "print(name)"
   ]
  },
  {
   "cell_type": "code",
   "execution_count": 16,
   "id": "52ec9551",
   "metadata": {},
   "outputs": [],
   "source": [
    "first_name = \"niaz\"\n",
    "facebok = \" ali\""
   ]
  },
  {
   "cell_type": "code",
   "execution_count": 17,
   "id": "1c344b17",
   "metadata": {},
   "outputs": [
    {
     "name": "stdout",
     "output_type": "stream",
     "text": [
      " ali\n"
     ]
    }
   ],
   "source": [
    "print(facebok)"
   ]
  },
  {
   "cell_type": "code",
   "execution_count": 20,
   "id": "61f5756a",
   "metadata": {},
   "outputs": [
    {
     "name": "stdout",
     "output_type": "stream",
     "text": [
      "niaz\n"
     ]
    }
   ],
   "source": [
    "print(first_name)"
   ]
  },
  {
   "cell_type": "code",
   "execution_count": 21,
   "id": "d539db90",
   "metadata": {},
   "outputs": [],
   "source": [
    "my_first_name_is = \"niaz\""
   ]
  },
  {
   "cell_type": "code",
   "execution_count": 25,
   "id": "60b93952",
   "metadata": {},
   "outputs": [
    {
     "name": "stdout",
     "output_type": "stream",
     "text": [
      "niaz\n"
     ]
    }
   ],
   "source": [
    "print(my_first_name_is)"
   ]
  },
  {
   "cell_type": "code",
   "execution_count": 27,
   "id": "56b1fa6c",
   "metadata": {},
   "outputs": [
    {
     "name": "stdout",
     "output_type": "stream",
     "text": [
      "niaz\n"
     ]
    }
   ],
   "source": [
    "print(my_first_name_is)"
   ]
  },
  {
   "cell_type": "code",
   "execution_count": 28,
   "id": "869c926e",
   "metadata": {},
   "outputs": [],
   "source": [
    "last_name = \"ali\"\n",
    "city_of_origin = \"karachi\"\n",
    "country = \"pakistan\""
   ]
  },
  {
   "cell_type": "code",
   "execution_count": 31,
   "id": "fd964f9a",
   "metadata": {},
   "outputs": [
    {
     "name": "stdout",
     "output_type": "stream",
     "text": [
      "pakistan\n"
     ]
    }
   ],
   "source": [
    "print(country)"
   ]
  },
  {
   "cell_type": "code",
   "execution_count": 32,
   "id": "7c38a48d",
   "metadata": {},
   "outputs": [
    {
     "name": "stdout",
     "output_type": "stream",
     "text": [
      "ali\n"
     ]
    }
   ],
   "source": [
    "print(last_name)"
   ]
  },
  {
   "cell_type": "code",
   "execution_count": 33,
   "id": "81a7660e",
   "metadata": {},
   "outputs": [
    {
     "name": "stdout",
     "output_type": "stream",
     "text": [
      "karachi\n"
     ]
    }
   ],
   "source": [
    "print(city_of_origin)"
   ]
  },
  {
   "cell_type": "code",
   "execution_count": 37,
   "id": "1925ea90",
   "metadata": {},
   "outputs": [],
   "source": [
    "greetings_double = \"g\\\"day\""
   ]
  },
  {
   "cell_type": "code",
   "execution_count": 39,
   "id": "ffd1a6e9",
   "metadata": {},
   "outputs": [
    {
     "name": "stdout",
     "output_type": "stream",
     "text": [
      "g\"day\n"
     ]
    }
   ],
   "source": [
    "print(greetings_double)"
   ]
  },
  {
   "cell_type": "code",
   "execution_count": 46,
   "id": "5c3c59f5",
   "metadata": {},
   "outputs": [],
   "source": [
    "first_name = \"Niaz\""
   ]
  },
  {
   "cell_type": "code",
   "execution_count": 47,
   "id": "b8a87e1f",
   "metadata": {},
   "outputs": [
    {
     "data": {
      "text/plain": [
       "'Niaz1'"
      ]
     },
     "execution_count": 47,
     "metadata": {},
     "output_type": "execute_result"
    }
   ],
   "source": [
    "first_name + \"1\""
   ]
  },
  {
   "cell_type": "code",
   "execution_count": null,
   "id": "83873d69",
   "metadata": {},
   "outputs": [],
   "source": []
  }
 ],
 "metadata": {
  "kernelspec": {
   "display_name": "Python 3 (ipykernel)",
   "language": "python",
   "name": "python3"
  },
  "language_info": {
   "codemirror_mode": {
    "name": "ipython",
    "version": 3
   },
   "file_extension": ".py",
   "mimetype": "text/x-python",
   "name": "python",
   "nbconvert_exporter": "python",
   "pygments_lexer": "ipython3",
   "version": "3.11.5"
  }
 },
 "nbformat": 4,
 "nbformat_minor": 5
}
