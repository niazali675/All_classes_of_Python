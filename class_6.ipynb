{
 "cells": [
  {
   "cell_type": "markdown",
   "id": "179cd62f",
   "metadata": {},
   "source": [
    "# if steatment"
   ]
  },
  {
   "cell_type": "code",
   "execution_count": 2,
   "id": "579f7185",
   "metadata": {},
   "outputs": [],
   "source": [
    "chutti = False"
   ]
  },
  {
   "cell_type": "code",
   "execution_count": 3,
   "id": "60343455",
   "metadata": {},
   "outputs": [
    {
     "name": "stdout",
     "output_type": "stream",
     "text": [
      "out of body print\n"
     ]
    }
   ],
   "source": [
    "if chutti:\n",
    "    print(\"Today is off - Happy new year\")\n",
    "print(\"out of body print\")    "
   ]
  },
  {
   "cell_type": "code",
   "execution_count": 2,
   "id": "4c665e1e",
   "metadata": {},
   "outputs": [],
   "source": [
    "chutti = True"
   ]
  },
  {
   "cell_type": "code",
   "execution_count": null,
   "id": "18d2e455",
   "metadata": {},
   "outputs": [],
   "source": []
  },
  {
   "cell_type": "code",
   "execution_count": 4,
   "id": "f8633381",
   "metadata": {},
   "outputs": [
    {
     "name": "stdout",
     "output_type": "stream",
     "text": [
      "today is - off Happy new year\n"
     ]
    }
   ],
   "source": [
    "if chutti:\n",
    "    print(\"today is - off Happy new year\")\n",
    "else:\n",
    "    print(\"attent class in saylani\")"
   ]
  },
  {
   "cell_type": "markdown",
   "id": "c9eb5493",
   "metadata": {},
   "source": [
    "# Example 2"
   ]
  },
  {
   "cell_type": "code",
   "execution_count": 5,
   "id": "fad6dad6",
   "metadata": {},
   "outputs": [],
   "source": [
    "num = 3"
   ]
  },
  {
   "cell_type": "code",
   "execution_count": 7,
   "id": "019cbe13",
   "metadata": {},
   "outputs": [
    {
     "data": {
      "text/plain": [
       "True"
      ]
     },
     "execution_count": 7,
     "metadata": {},
     "output_type": "execute_result"
    }
   ],
   "source": [
    "num%3==0"
   ]
  },
  {
   "cell_type": "code",
   "execution_count": 8,
   "id": "76f89d0f",
   "metadata": {},
   "outputs": [],
   "source": [
    "num = 4 "
   ]
  },
  {
   "cell_type": "code",
   "execution_count": 9,
   "id": "bcb05446",
   "metadata": {},
   "outputs": [
    {
     "data": {
      "text/plain": [
       "True"
      ]
     },
     "execution_count": 9,
     "metadata": {},
     "output_type": "execute_result"
    }
   ],
   "source": [
    "num%3==1"
   ]
  },
  {
   "cell_type": "code",
   "execution_count": 14,
   "id": "985dfaef",
   "metadata": {},
   "outputs": [
    {
     "name": "stdout",
     "output_type": "stream",
     "text": [
      "number is odd\n"
     ]
    }
   ],
   "source": [
    "if num%3==0:\n",
    "    print('number is even')\n",
    "else:\n",
    "    print('number is odd')"
   ]
  },
  {
   "cell_type": "markdown",
   "id": "2bf7de65",
   "metadata": {},
   "source": [
    "# Example 3"
   ]
  },
  {
   "cell_type": "code",
   "execution_count": 19,
   "id": "f176778f",
   "metadata": {},
   "outputs": [],
   "source": [
    "country = \"america\"\n",
    "hight = 5"
   ]
  },
  {
   "cell_type": "code",
   "execution_count": 25,
   "id": "d00892b2",
   "metadata": {},
   "outputs": [
    {
     "name": "stdout",
     "output_type": "stream",
     "text": [
      "umair is happ for country\n",
      "it is fine for umair\n"
     ]
    }
   ],
   "source": [
    "if country != \"pakistan\":\n",
    "    print(\"umair is happ for country\")\n",
    "    if hight <5:\n",
    "        print(\"umair is not happy for hight \")\n",
    "    else:\n",
    "        print(\"it is fine for umair\")\n",
    "else:\n",
    "    print(\"umair is sad\")"
   ]
  },
  {
   "cell_type": "code",
   "execution_count": 4,
   "id": "2dc67578",
   "metadata": {},
   "outputs": [
    {
     "name": "stdout",
     "output_type": "stream",
     "text": [
      "Enter country of Girls: ameica\n",
      "Enter hight of Girls: 6\n",
      "umair is happy for county\n",
      "its fine for umair\n"
     ]
    }
   ],
   "source": [
    "country = input(\"Enter country of Girls: \")\n",
    "hight = int(input(\"Enter hight of Girls: \"))\n",
    "if country !=(\"pakistan\"):\n",
    "    print(\"umair is happy for county\")\n",
    "    if hight<5:\n",
    "        print(\"umair is not happy for country\")\n",
    "    else:\n",
    "        print(\"its fine for umair\")\n",
    "else:\n",
    "    print(\"umair is sad\")"
   ]
  },
  {
   "cell_type": "code",
   "execution_count": 7,
   "id": "328adbc1",
   "metadata": {},
   "outputs": [],
   "source": [
    "species = \"monkey\" # '=' is used for assignment\n",
    "if species == \"dog\":\n",
    "    print(\"yes its cat\")"
   ]
  },
  {
   "cell_type": "code",
   "execution_count": 9,
   "id": "d6ef96fd",
   "metadata": {},
   "outputs": [],
   "source": [
    "species = 3\n",
    "if species == \"cat\":\n",
    "    print(\" yes its cat\")"
   ]
  },
  {
   "cell_type": "code",
   "execution_count": 13,
   "id": "cf0de778",
   "metadata": {},
   "outputs": [
    {
     "name": "stdout",
     "output_type": "stream",
     "text": [
      "yes its cat.\n",
      "animal\n"
     ]
    }
   ],
   "source": [
    "species = \"cat\"\n",
    "if species == \"cat\":\n",
    "    status = \"ok\"\n",
    "    kingdom = \"animal\"\n",
    "    print(\"yes its cat.\")\n",
    "    print(kingdom)\n"
   ]
  },
  {
   "cell_type": "code",
   "execution_count": 14,
   "id": "27f561a6",
   "metadata": {},
   "outputs": [
    {
     "name": "stdout",
     "output_type": "stream",
     "text": [
      "Everything makes sense.\n"
     ]
    }
   ],
   "source": [
    "if 3+3 ==6:\n",
    "    print(\"Everything makes sense.\")"
   ]
  },
  {
   "cell_type": "markdown",
   "id": "f4a58222",
   "metadata": {},
   "source": [
    "# comparision operators"
   ]
  },
  {
   "cell_type": "code",
   "execution_count": 19,
   "id": "78847c5d",
   "metadata": {},
   "outputs": [
    {
     "data": {
      "text/plain": [
       "False"
      ]
     },
     "execution_count": 19,
     "metadata": {},
     "output_type": "execute_result"
    }
   ],
   "source": [
    "4 + 3 == 5 # '==' equality operators"
   ]
  },
  {
   "cell_type": "code",
   "execution_count": 20,
   "id": "0600b6a0",
   "metadata": {},
   "outputs": [
    {
     "data": {
      "text/plain": [
       "True"
      ]
     },
     "execution_count": 20,
     "metadata": {},
     "output_type": "execute_result"
    }
   ],
   "source": [
    "2 + 2 == 4"
   ]
  },
  {
   "cell_type": "markdown",
   "id": "badaaa53",
   "metadata": {},
   "source": [
    "\"cat\" == \"cat # \"==\" equality operator"
   ]
  },
  {
   "cell_type": "code",
   "execution_count": 21,
   "id": "0adb14e2",
   "metadata": {},
   "outputs": [
    {
     "data": {
      "text/plain": [
       "False"
      ]
     },
     "execution_count": 21,
     "metadata": {},
     "output_type": "execute_result"
    }
   ],
   "source": [
    "\"dog\" == \"cat\""
   ]
  },
  {
   "cell_type": "code",
   "execution_count": 23,
   "id": "4d7ce5fc",
   "metadata": {},
   "outputs": [
    {
     "data": {
      "text/plain": [
       "False"
      ]
     },
     "execution_count": 23,
     "metadata": {},
     "output_type": "execute_result"
    }
   ],
   "source": [
    "\"Cat\" == \"cat\""
   ]
  },
  {
   "cell_type": "code",
   "execution_count": 24,
   "id": "1de99849",
   "metadata": {},
   "outputs": [
    {
     "data": {
      "text/plain": [
       "False"
      ]
     },
     "execution_count": 24,
     "metadata": {},
     "output_type": "execute_result"
    }
   ],
   "source": [
    "2 + 2 !=4"
   ]
  },
  {
   "cell_type": "code",
   "execution_count": 25,
   "id": "6da9372a",
   "metadata": {},
   "outputs": [
    {
     "data": {
      "text/plain": [
       "True"
      ]
     },
     "execution_count": 25,
     "metadata": {},
     "output_type": "execute_result"
    }
   ],
   "source": [
    "2 + 3 !=4"
   ]
  },
  {
   "cell_type": "code",
   "execution_count": 26,
   "id": "00a59556",
   "metadata": {},
   "outputs": [
    {
     "data": {
      "text/plain": [
       "True"
      ]
     },
     "execution_count": 26,
     "metadata": {},
     "output_type": "execute_result"
    }
   ],
   "source": [
    "3 + 3 !=3"
   ]
  },
  {
   "cell_type": "code",
   "execution_count": 27,
   "id": "65cbf8ea",
   "metadata": {},
   "outputs": [
    {
     "data": {
      "text/plain": [
       "True"
      ]
     },
     "execution_count": 27,
     "metadata": {},
     "output_type": "execute_result"
    }
   ],
   "source": [
    "3 < 5"
   ]
  },
  {
   "cell_type": "code",
   "execution_count": 28,
   "id": "93a4d2ac",
   "metadata": {},
   "outputs": [
    {
     "data": {
      "text/plain": [
       "False"
      ]
     },
     "execution_count": 28,
     "metadata": {},
     "output_type": "execute_result"
    }
   ],
   "source": [
    "4 < 3"
   ]
  },
  {
   "cell_type": "code",
   "execution_count": 30,
   "id": "a63d1c06",
   "metadata": {},
   "outputs": [
    {
     "data": {
      "text/plain": [
       "False"
      ]
     },
     "execution_count": 30,
     "metadata": {},
     "output_type": "execute_result"
    }
   ],
   "source": [
    "3 <= 2"
   ]
  },
  {
   "cell_type": "code",
   "execution_count": 48,
   "id": "0a60b68b",
   "metadata": {},
   "outputs": [
    {
     "name": "stdout",
     "output_type": "stream",
     "text": [
      "Nope,not cat.\n"
     ]
    }
   ],
   "source": [
    "species = \"monkey\"\n",
    "  \n",
    "if species == \"dog\":\n",
    "    print(\"Yep,its cat.\")\n",
    "else:\n",
    "    print(\"Nope,not cat.\")"
   ]
  },
  {
   "cell_type": "code",
   "execution_count": 49,
   "id": "5368c4b9",
   "metadata": {},
   "outputs": [],
   "source": [
    "buy_score = 0\n",
    "\n",
    "fruit_condition = \"not Fresh\"\n",
    "fruit_price = 'low'"
   ]
  },
  {
   "cell_type": "code",
   "execution_count": 50,
   "id": "8dab859f",
   "metadata": {},
   "outputs": [],
   "source": [
    "if fruit_condition == \"fresh\":\n",
    "    buy_score += 10\n",
    "elif fruit_price == \"low\":\n",
    "    buy_score += 5\n",
    "else:\n",
    "    buy_score = 0\n",
    "    "
   ]
  },
  {
   "cell_type": "code",
   "execution_count": 51,
   "id": "57b5213a",
   "metadata": {},
   "outputs": [
    {
     "data": {
      "text/plain": [
       "5"
      ]
     },
     "execution_count": 51,
     "metadata": {},
     "output_type": "execute_result"
    }
   ],
   "source": [
    "buy_score"
   ]
  }
 ],
 "metadata": {
  "kernelspec": {
   "display_name": "Python 3 (ipykernel)",
   "language": "python",
   "name": "python3"
  },
  "language_info": {
   "codemirror_mode": {
    "name": "ipython",
    "version": 3
   },
   "file_extension": ".py",
   "mimetype": "text/x-python",
   "name": "python",
   "nbconvert_exporter": "python",
   "pygments_lexer": "ipython3",
   "version": "3.11.5"
  }
 },
 "nbformat": 4,
 "nbformat_minor": 5
}
