{
 "cells": [
  {
   "cell_type": "markdown",
   "id": "84109aaa",
   "metadata": {},
   "source": [
    "# Concatenating text strings"
   ]
  },
  {
   "cell_type": "markdown",
   "id": "151268ef",
   "metadata": {},
   "source": [
    "## method 1"
   ]
  },
  {
   "cell_type": "code",
   "execution_count": 1,
   "id": "33f1b113",
   "metadata": {},
   "outputs": [],
   "source": [
    "f_name = \"niaz\""
   ]
  },
  {
   "cell_type": "code",
   "execution_count": 2,
   "id": "d70bafe7",
   "metadata": {},
   "outputs": [],
   "source": [
    "l_name = \"ali\""
   ]
  },
  {
   "cell_type": "code",
   "execution_count": 4,
   "id": "87a65c4c",
   "metadata": {},
   "outputs": [
    {
     "name": "stdout",
     "output_type": "stream",
     "text": [
      "niazali\n"
     ]
    }
   ],
   "source": [
    "full_name = f_name+l_name\n",
    "print(full_name)\n"
   ]
  },
  {
   "cell_type": "code",
   "execution_count": 6,
   "id": "abdded24",
   "metadata": {},
   "outputs": [
    {
     "name": "stdout",
     "output_type": "stream",
     "text": [
      "niaz ali\n"
     ]
    }
   ],
   "source": [
    "full_name = f_name+\" \"+ l_name\n",
    "print(full_name)"
   ]
  },
  {
   "cell_type": "code",
   "execution_count": 7,
   "id": "0b78ca92",
   "metadata": {},
   "outputs": [
    {
     "name": "stdout",
     "output_type": "stream",
     "text": [
      "niazali\n"
     ]
    }
   ],
   "source": [
    "full_name = f_name+ l_name\n",
    "print(full_name)"
   ]
  },
  {
   "cell_type": "code",
   "execution_count": 12,
   "id": "684b8d53",
   "metadata": {},
   "outputs": [
    {
     "name": "stdout",
     "output_type": "stream",
     "text": [
      "hello, world!\n"
     ]
    }
   ],
   "source": [
    "gretting =  \"hello\"\n",
    "seperators = \", \"\n",
    "addressee = \"world\"\n",
    "punc = \"!\"\n",
    "whole_gretting = gretting + seperators + addressee + punc\n",
    "print(whole_gretting)"
   ]
  },
  {
   "cell_type": "markdown",
   "id": "d32f8362",
   "metadata": {},
   "source": [
    "## method 2"
   ]
  },
  {
   "cell_type": "code",
   "execution_count": 14,
   "id": "0c97ffa2",
   "metadata": {},
   "outputs": [
    {
     "data": {
      "text/plain": [
       "'niaz ali'"
      ]
     },
     "execution_count": 14,
     "metadata": {},
     "output_type": "execute_result"
    }
   ],
   "source": [
    "f\"{f_name} {l_name}\""
   ]
  },
  {
   "cell_type": "code",
   "execution_count": 16,
   "id": "f4e1a907",
   "metadata": {},
   "outputs": [
    {
     "name": "stdout",
     "output_type": "stream",
     "text": [
      "niaz ali\n"
     ]
    }
   ],
   "source": [
    "print(f\"{f_name} {l_name}\")"
   ]
  },
  {
   "cell_type": "code",
   "execution_count": 18,
   "id": "82d1e3ff",
   "metadata": {},
   "outputs": [
    {
     "name": "stdout",
     "output_type": "stream",
     "text": [
      "niaz ali\n"
     ]
    }
   ],
   "source": [
    "pora_name = f\"{f_name} {l_name}\"\n",
    "print(pora_name)"
   ]
  },
  {
   "cell_type": "code",
   "execution_count": 20,
   "id": "a34030d1",
   "metadata": {},
   "outputs": [
    {
     "name": "stdout",
     "output_type": "stream",
     "text": [
      "pora name ha mera => niaz ali\n"
     ]
    }
   ],
   "source": [
    "print(f\"pora name ha mera => {f_name} {l_name}\")"
   ]
  },
  {
   "cell_type": "code",
   "execution_count": null,
   "id": "0709e6a5",
   "metadata": {},
   "outputs": [],
   "source": []
  }
 ],
 "metadata": {
  "kernelspec": {
   "display_name": "Python 3 (ipykernel)",
   "language": "python",
   "name": "python3"
  },
  "language_info": {
   "codemirror_mode": {
    "name": "ipython",
    "version": 3
   },
   "file_extension": ".py",
   "mimetype": "text/x-python",
   "name": "python",
   "nbconvert_exporter": "python",
   "pygments_lexer": "ipython3",
   "version": "3.11.5"
  }
 },
 "nbformat": 4,
 "nbformat_minor": 5
}
